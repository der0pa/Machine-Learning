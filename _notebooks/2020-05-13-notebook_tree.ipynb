{
 "cells": [
  {
   "cell_type": "markdown",
   "metadata": {},
   "source": [
    "# \"notebook_three\"\n",
    "> \"setting up the jetson-nano\"\n",
    "\n",
    "- toc: false\n",
    "- branch: master\n",
    "- badges: true\n",
    "- comments: true\n",
    "- categories: [fastpages, jupyter]\n",
    "- image: images/some_folder/your_image.png\n",
    "- hide: false\n",
    "- search_exclude: true\n",
    "- metadata_key1: metadata_value1\n",
    "- metadata_key2: metadata_value2"
   ]
  },
  {
   "cell_type": "code",
   "execution_count": 4,
   "metadata": {},
   "outputs": [
    {
     "name": "stdout",
     "output_type": "stream",
     "text": [
      "Python 3.6.9\r\n"
     ]
    }
   ],
   "source": [
    "!python3 --version\n"
   ]
  },
  {
   "cell_type": "code",
   "execution_count": 3,
   "metadata": {},
   "outputs": [
    {
     "name": "stdout",
     "output_type": "stream",
     "text": [
      "Python 2.7.17\r\n"
     ]
    }
   ],
   "source": [
    "!python --version"
   ]
  },
  {
   "cell_type": "code",
   "execution_count": 8,
   "metadata": {},
   "outputs": [
    {
     "name": "stdout",
     "output_type": "stream",
     "text": [
      "1.13.3\r\n"
     ]
    }
   ],
   "source": [
    "!python -c 'import numpy; print(numpy.__version__)'"
   ]
  },
  {
   "cell_type": "code",
   "execution_count": 10,
   "metadata": {
    "scrolled": false
   },
   "outputs": [
    {
     "name": "stdout",
     "output_type": "stream",
     "text": [
      "3.2.1\n"
     ]
    }
   ],
   "source": [
    "import matplotlib \n",
    "print(matplotlib.__version__)"
   ]
  },
  {
   "cell_type": "code",
   "execution_count": 11,
   "metadata": {
    "scrolled": true
   },
   "outputs": [
    {
     "name": "stdout",
     "output_type": "stream",
     "text": [
      "Found 1 device(s).\n",
      "Device: 0\n",
      "  Name: NVIDIA Tegra X1\n",
      "  Compute Capability: 5.3\n",
      "  Multiprocessors: 1\n",
      "  CUDA Cores: 128\n",
      "  Concurrent threads: 2048\n",
      "  GPU clock: 921.6 MHz\n",
      "  Memory clock: 12.75 MHz\n",
      "  Total Memory: 3964 MiB\n",
      "  Free Memory: 1033 MiB\n"
     ]
    }
   ],
   "source": [
    "!python3 cuda_check.py"
   ]
  },
  {
   "cell_type": "code",
   "execution_count": 12,
   "metadata": {
    "scrolled": true
   },
   "outputs": [
    {
     "name": "stdout",
     "output_type": "stream",
     "text": [
      "total 24\r\n",
      "drwxrwxr-x  3 opa opa 4096 May 13 21:44  .\r\n",
      "drwxr-xr-x 22 opa opa 4096 May 13 21:36  ..\r\n",
      "-rw-rw-r--  1 opa opa 5439 May 13 21:43  cuda_check.py\r\n",
      "-rw-rw-r--  1 opa opa 2150 May 13 21:44 'getting started jetson-nano.ipynb'\r\n",
      "drwxrwxr-x  2 opa opa 4096 May 13 16:55  .ipynb_checkpoints\r\n"
     ]
    }
   ],
   "source": [
    "!ls -la"
   ]
  }
 ],
 "metadata": {
  "kernelspec": {
   "display_name": "Python 3",
   "language": "python",
   "name": "python3"
  },
  "language_info": {
   "codemirror_mode": {
    "name": "ipython",
    "version": 3
   },
   "file_extension": ".py",
   "mimetype": "text/x-python",
   "name": "python",
   "nbconvert_exporter": "python",
   "pygments_lexer": "ipython3",
   "version": "3.6.9"
  }
 },
 "nbformat": 4,
 "nbformat_minor": 4
}
