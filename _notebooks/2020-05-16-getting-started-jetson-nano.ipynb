{
 "cells": [
  {
   "cell_type": "code",
   "execution_count": 1,
   "metadata": {},
   "outputs": [
    {
     "name": "stdout",
     "output_type": "stream",
     "text": [
      "Python 3.6.9\r\n"
     ]
    }
   ],
   "source": [
    "!python3 --version\n"
   ]
  },
  {
   "cell_type": "code",
   "execution_count": 2,
   "metadata": {},
   "outputs": [
    {
     "name": "stdout",
     "output_type": "stream",
     "text": [
      "Python 2.7.17\r\n"
     ]
    }
   ],
   "source": [
    "!python --version"
   ]
  },
  {
   "cell_type": "code",
   "execution_count": 3,
   "metadata": {},
   "outputs": [
    {
     "name": "stdout",
     "output_type": "stream",
     "text": [
      "1.13.3\r\n"
     ]
    }
   ],
   "source": [
    "!python -c 'import numpy; print(numpy.__version__)'"
   ]
  },
  {
   "cell_type": "code",
   "execution_count": 4,
   "metadata": {
    "scrolled": false
   },
   "outputs": [
    {
     "name": "stdout",
     "output_type": "stream",
     "text": [
      "3.2.1\n"
     ]
    }
   ],
   "source": [
    "import matplotlib \n",
    "print(matplotlib.__version__)"
   ]
  },
  {
   "cell_type": "code",
   "execution_count": 5,
   "metadata": {
    "scrolled": true
   },
   "outputs": [
    {
     "name": "stdout",
     "output_type": "stream",
     "text": [
      "Found 1 device(s).\n",
      "Device: 0\n",
      "  Name: NVIDIA Tegra X1\n",
      "  Compute Capability: 5.3\n",
      "  Multiprocessors: 1\n",
      "  CUDA Cores: 128\n",
      "  Concurrent threads: 2048\n",
      "  GPU clock: 921.6 MHz\n",
      "  Memory clock: 12.75 MHz\n",
      "  Total Memory: 3964 MiB\n",
      "  Free Memory: 324 MiB\n"
     ]
    }
   ],
   "source": [
    "!python3 cuda_check.py"
   ]
  },
  {
   "cell_type": "code",
   "execution_count": 6,
   "metadata": {
    "scrolled": true
   },
   "outputs": [
    {
     "name": "stdout",
     "output_type": "stream",
     "text": [
      "total 120\r\n",
      "drwxrwxr-x  4 opa opa  4096 May 15 16:46  .\r\n",
      "drwxrwxr-x 16 opa opa  4096 May 13 22:47  ..\r\n",
      "-rw-rw-r--  1 opa opa 30573 May 13 22:47  2020-02-20-test.ipynb\r\n",
      "-rw-rw-r--  1 opa opa  6751 May 13 22:47  2020-05-05-firstnotebook.ipynb\r\n",
      "-rw-rw-r--  1 opa opa  1060 May 13 23:11  2020-05-06-notebook_TWO.ipynb\r\n",
      "-rw-rw-r--  1 opa opa 43656 May 15 16:46  2020-05-13-nvidia-jetson-nano.ipynb\r\n",
      "-rw-rw-r--  1 opa opa  5439 May 13 21:43  cuda_check.py\r\n",
      "-rw-rw-r--  1 opa opa  2785 May 13 22:48 'getting started jetson-nano.ipynb'\r\n",
      "drwxrwxr-x  2 opa opa  4096 May 15 14:11  .ipynb_checkpoints\r\n",
      "drwxrwxr-x  2 opa opa  4096 May 13 22:47  my_icons\r\n",
      "-rw-rw-r--  1 opa opa   771 May 13 22:47  README.md\r\n"
     ]
    }
   ],
   "source": [
    "!ls -la"
   ]
  }
 ],
 "metadata": {
  "kernelspec": {
   "display_name": "Python 3",
   "language": "python",
   "name": "python3"
  },
  "language_info": {
   "codemirror_mode": {
    "name": "ipython",
    "version": 3
   },
   "file_extension": ".py",
   "mimetype": "text/x-python",
   "name": "python",
   "nbconvert_exporter": "python",
   "pygments_lexer": "ipython3",
   "version": "3.6.9"
  }
 },
 "nbformat": 4,
 "nbformat_minor": 4
}
